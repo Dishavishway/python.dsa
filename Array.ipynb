{
 "cells": [
  {
   "cell_type": "markdown",
   "id": "428b47ff",
   "metadata": {},
   "source": [
    "# 1-D ARRAY"
   ]
  },
  {
   "cell_type": "code",
   "execution_count": 1,
   "id": "dba8790b",
   "metadata": {},
   "outputs": [
    {
     "name": "stdout",
     "output_type": "stream",
     "text": [
      "array('i', [1, 2, 3, 4, 5, 6])\n",
      "array('d', [1.1, 2.1, 3.1, 4.1, 5.1])\n"
     ]
    }
   ],
   "source": [
    "from array import *\n",
    "\n",
    "arr1 = array('i',[1,2,3,4,5,6])\n",
    "arr2 = array('d',[1.1,2.1,3.1,4.1,5.1])\n",
    "\n",
    "print(arr1)\n",
    "print(arr2)"
   ]
  },
  {
   "cell_type": "code",
   "execution_count": 6,
   "id": "cb5bbefe",
   "metadata": {},
   "outputs": [
    {
     "name": "stdout",
     "output_type": "stream",
     "text": [
      "array('i', [9, 1, 2, 3])\n",
      "array('i', [9, 1, 2, 3, 10])\n",
      "array('i', [9, 1, 2, 7, 3, 10])\n"
     ]
    }
   ],
   "source": [
    "# Insertion\n",
    "arr = array('i',[1,2,3])\n",
    "# begining\n",
    "arr.insert(0,9)\n",
    "print(arr)\n",
    "# ending\n",
    "arr.insert(4,10)\n",
    "print(arr)\n",
    "# middle\n",
    "arr.insert(3,7)\n",
    "print(arr)"
   ]
  },
  {
   "cell_type": "code",
   "execution_count": 7,
   "id": "228e3c99",
   "metadata": {},
   "outputs": [
    {
     "name": "stdout",
     "output_type": "stream",
     "text": [
      "9\n",
      "1\n",
      "2\n",
      "7\n",
      "3\n",
      "10\n"
     ]
    }
   ],
   "source": [
    "# Traversal\n",
    "def traverseArray(array):\n",
    "    for i in array:\n",
    "        print(i)\n",
    "traverseArray(arr)"
   ]
  },
  {
   "cell_type": "code",
   "execution_count": 12,
   "id": "55547416",
   "metadata": {},
   "outputs": [
    {
     "name": "stdout",
     "output_type": "stream",
     "text": [
      "8\n",
      "out of length\n"
     ]
    }
   ],
   "source": [
    "# Access the element of array\n",
    "def accessElement(array, index):\n",
    "    if index > len(array):\n",
    "        print(\"out of length\")\n",
    "    else:\n",
    "        print(array[index])\n",
    "\n",
    "i = int(input())\n",
    "accessElement(arr,i)"
   ]
  },
  {
   "cell_type": "code",
   "execution_count": 24,
   "id": "bef5a13e",
   "metadata": {},
   "outputs": [
    {
     "name": "stdout",
     "output_type": "stream",
     "text": [
      "1\n"
     ]
    },
    {
     "data": {
      "text/plain": [
       "0"
      ]
     },
     "execution_count": 24,
     "metadata": {},
     "output_type": "execute_result"
    }
   ],
   "source": [
    "from array import *\n",
    "def searchInArray(array, value):\n",
    "    for i in array:\n",
    "        if i == value:\n",
    "            return array.index(value)\n",
    "    return \"not exist\"\n",
    "    \n",
    "arr = array('i',[1,2,3])\n",
    "v = int(input())\n",
    "searchInArray(arr, v)"
   ]
  },
  {
   "cell_type": "code",
   "execution_count": 5,
   "id": "03e02c95",
   "metadata": {},
   "outputs": [
    {
     "name": "stdout",
     "output_type": "stream",
     "text": [
      "array('i', [1, 3])\n"
     ]
    }
   ],
   "source": [
    "# DELETE AN ARRAY\n",
    "from array import*\n",
    "arr = array('i',[1,2,3])\n",
    "arr.remove(2)\n",
    "print(arr)"
   ]
  },
  {
   "cell_type": "markdown",
   "id": "16873102",
   "metadata": {},
   "source": [
    "# 2-D ARRAY"
   ]
  },
  {
   "cell_type": "code",
   "execution_count": 7,
   "id": "067cc257",
   "metadata": {},
   "outputs": [],
   "source": [
    "import numpy as np"
   ]
  },
  {
   "cell_type": "code",
   "execution_count": 9,
   "id": "1cee7f04",
   "metadata": {},
   "outputs": [
    {
     "name": "stdout",
     "output_type": "stream",
     "text": [
      "[[11 15 10  6]\n",
      " [10 14 11  5]\n",
      " [12 17 12  8]\n",
      " [15 18 14  9]]\n"
     ]
    }
   ],
   "source": [
    "# Day 1 - 11, 15, 10, 6\n",
    "# Day 2 - 10, 14, 11, 5\n",
    "# Day 3 - 12, 17, 12, 8\n",
    "# Day 4 - 15, 18, 14, 9\n",
    "twoDarr = np.array([[11, 15, 10, 6],[10, 14, 11, 5],[12, 17, 12, 8],[15, 18, 14, 9]])\n",
    "print(twoDarr)"
   ]
  },
  {
   "cell_type": "code",
   "execution_count": 11,
   "id": "3538ba36",
   "metadata": {},
   "outputs": [
    {
     "name": "stdout",
     "output_type": "stream",
     "text": [
      "[[ 1 11 15 10  6]\n",
      " [ 2 10 14 11  5]\n",
      " [ 3 12 17 12  8]\n",
      " [ 4 15 18 14  9]]\n"
     ]
    }
   ],
   "source": [
    "# Insertion\n",
    "# column\n",
    "newTwoDarr = np.insert(twoDarr, 0,[[1, 2, 3, 4]], axis=1)\n",
    "print(newTwoDarr)"
   ]
  },
  {
   "cell_type": "code",
   "execution_count": 15,
   "id": "743075e7",
   "metadata": {},
   "outputs": [
    {
     "name": "stdout",
     "output_type": "stream",
     "text": [
      "[[11 15 10  6]\n",
      " [10 14 11  5]\n",
      " [10  5  6 78]\n",
      " [12 17 12  8]\n",
      " [15 18 14  9]]\n"
     ]
    }
   ],
   "source": [
    "# Insertion\n",
    "# column\n",
    "newTwoDarr2 = np.insert(twoDarr, 2,[[10, 5, 6, 78]], axis=0)\n",
    "print(newTwoDarr2)"
   ]
  },
  {
   "cell_type": "code",
   "execution_count": 17,
   "id": "f69c8fe2",
   "metadata": {},
   "outputs": [
    {
     "name": "stdout",
     "output_type": "stream",
     "text": [
      "Enter the row number: 3\n",
      "Enter the column number: 2\n",
      "[[11 15 10  6]\n",
      " [10 14 11  5]\n",
      " [12 17 12  8]\n",
      " [15 18 14  9]]\n",
      "14\n"
     ]
    }
   ],
   "source": [
    "# access the elements of 2-D array\n",
    "def accessTwoDarr(array, rowIndex, colIndex):\n",
    "    if rowIndex > len(array) or colIndex >len(array[0]):#------------------------> O(1)\n",
    "        print(\"out of length\")#---------------------------------------------------> O(1)\n",
    "    else:\n",
    "        print(array[rowIndex][colIndex])#-----------------------------------------> O(1)\n",
    "\n",
    "arr = np.array([[11, 15, 10, 6],[10, 14, 11, 5],[12, 17, 12, 8],[15, 18, 14, 9]])\n",
    "rownum = int(input(\"Enter the row number: \"))\n",
    "colnum = int(input(\"Enter the column number: \"))\n",
    "print(arr)\n",
    "accessTwoDarr(arr, rownum, colnum)"
   ]
  },
  {
   "cell_type": "code",
   "execution_count": 20,
   "id": "3115e698",
   "metadata": {},
   "outputs": [
    {
     "name": "stdout",
     "output_type": "stream",
     "text": [
      "[[11 15 10  6]\n",
      " [10 14 11  5]\n",
      " [12 17 12  8]\n",
      " [15 18 14  9]]\n",
      "11\n",
      "15\n",
      "10\n",
      "6\n",
      "10\n",
      "14\n",
      "11\n",
      "5\n",
      "12\n",
      "17\n",
      "12\n",
      "8\n",
      "15\n",
      "18\n",
      "14\n",
      "9\n"
     ]
    }
   ],
   "source": [
    "# Traverse in 2-D array\n",
    "def traverseTDA(array):\n",
    "    for i in range(len(array)):#------------>O(m)---\n",
    "                                                #   -------------->O(n^2)\n",
    "        for j in range(len(array[0])):#----->O(n)---\n",
    "            print(array[i][j])\n",
    "\n",
    "print(arr)\n",
    "traverseTDA(arr)"
   ]
  },
  {
   "cell_type": "code",
   "execution_count": 24,
   "id": "cbde69de",
   "metadata": {},
   "outputs": [
    {
     "name": "stdout",
     "output_type": "stream",
     "text": [
      "[[11 15 10  6]\n",
      " [10 14 11  5]\n",
      " [12 17 12  8]\n",
      " [15 18 14  9]]\n",
      "The value is located in index a[ 1 ][ 1 ]\n",
      "The value is located in index a[ 3 ][ 2 ]\n",
      "These element is not exist in 2-D array.\n"
     ]
    }
   ],
   "source": [
    "def searchEleTDA(array, element):\n",
    "    for i in range(len(array)): #--------------------------------------------->O(n)\n",
    "                                                                            #      ------>O(n^2)\n",
    "        for j in range(len(array[0])):#--------------------------------------->O(n)\n",
    "            if element == array[i][j]:#--------------------------------------->O(1)\n",
    "                print(\"The value is located in index a[\",i,\"][\",j,\"]\")#------->O(1)\n",
    "            else:\n",
    "                pass\n",
    "    print(\"These element is not exist in 2-D array.\")#------------------------>O(1)\n",
    "\n",
    "print(arr)\n",
    "searchEleTDA(arr, 14)"
   ]
  },
  {
   "cell_type": "code",
   "execution_count": 27,
   "id": "bf0be39f",
   "metadata": {},
   "outputs": [
    {
     "name": "stdout",
     "output_type": "stream",
     "text": [
      "[[11 15 10  6]\n",
      " [10 14 11  5]\n",
      " [12 17 12  8]\n",
      " [15 18 14  9]] \n",
      "\n",
      "[[10 14 11  5]\n",
      " [12 17 12  8]\n",
      " [15 18 14  9]]\n"
     ]
    }
   ],
   "source": [
    "# Delete\n",
    "print(arr,\"\\n\")\n",
    "newarr = np.delete(arr, 0, axis=0)\n",
    "print(newarr)"
   ]
  },
  {
   "cell_type": "code",
   "execution_count": null,
   "id": "139e272e",
   "metadata": {},
   "outputs": [],
   "source": []
  }
 ],
 "metadata": {
  "kernelspec": {
   "display_name": "Python 3 (ipykernel)",
   "language": "python",
   "name": "python3"
  },
  "language_info": {
   "codemirror_mode": {
    "name": "ipython",
    "version": 3
   },
   "file_extension": ".py",
   "mimetype": "text/x-python",
   "name": "python",
   "nbconvert_exporter": "python",
   "pygments_lexer": "ipython3",
   "version": "3.9.13"
  }
 },
 "nbformat": 4,
 "nbformat_minor": 5
}
