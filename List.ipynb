{
 "cells": [
  {
   "cell_type": "code",
   "execution_count": 1,
   "id": "d751922d",
   "metadata": {},
   "outputs": [
    {
     "name": "stdout",
     "output_type": "stream",
     "text": [
      "[10, 20, 30, 40]\n"
     ]
    }
   ],
   "source": [
    "# A list is a data structure that holds the collection of items.\n",
    "integers = [10, 20, 30, 40]\n",
    "print(integers)"
   ]
  },
  {
   "cell_type": "code",
   "execution_count": 28,
   "id": "203772da",
   "metadata": {},
   "outputs": [
    {
     "name": "stdout",
     "output_type": "stream",
     "text": [
      "['elena', 'damon', 'stefen', 'caroline']\n"
     ]
    }
   ],
   "source": [
    "strings = ['elena', 'damon', 'stefen', 'caroline']\n",
    "print(strings)"
   ]
  },
  {
   "cell_type": "code",
   "execution_count": 3,
   "id": "5b14861f",
   "metadata": {},
   "outputs": [
    {
     "name": "stdout",
     "output_type": "stream",
     "text": [
      "['bonnie', 'tyler', 'matt', 22, 4.4, [1.1, 2.2, 3.3]]\n"
     ]
    }
   ],
   "source": [
    "mixedList = ['bonnie', 'tyler', 'matt', 22, 4.4, [1.1, 2.2, 3.3]]\n",
    "print(mixedList)"
   ]
  },
  {
   "cell_type": "code",
   "execution_count": 5,
   "id": "06364b5b",
   "metadata": {},
   "outputs": [
    {
     "name": "stdout",
     "output_type": "stream",
     "text": [
      "True\n",
      "False\n"
     ]
    }
   ],
   "source": [
    "print('damon' in strings)\n",
    "print('bonnie' in strings)"
   ]
  },
  {
   "cell_type": "code",
   "execution_count": 10,
   "id": "bb86961f",
   "metadata": {},
   "outputs": [
    {
     "name": "stdout",
     "output_type": "stream",
     "text": [
      "[1.1, 2.2, 3.3]\n",
      "caroline\n",
      "20\n"
     ]
    }
   ],
   "source": [
    "print(mixedList[-1])\n",
    "print(strings[3])\n",
    "print(integers[-3])"
   ]
  },
  {
   "cell_type": "code",
   "execution_count": 11,
   "id": "1ff55264",
   "metadata": {},
   "outputs": [
    {
     "name": "stdout",
     "output_type": "stream",
     "text": [
      "elena\n",
      "damon\n",
      "stefen\n",
      "caroline\n"
     ]
    }
   ],
   "source": [
    "for i in strings:\n",
    "    print(i)"
   ]
  },
  {
   "cell_type": "code",
   "execution_count": 29,
   "id": "9d86148c",
   "metadata": {},
   "outputs": [
    {
     "name": "stdout",
     "output_type": "stream",
     "text": [
      "elena salvatore\n",
      "damon salvatore\n",
      "stefen salvatore\n",
      "caroline salvatore\n"
     ]
    }
   ],
   "source": [
    "for i in range(len(strings)):\n",
    "    strings[i] = strings[i] + \" salvatore\"\n",
    "    print(strings[i])"
   ]
  },
  {
   "cell_type": "code",
   "execution_count": 22,
   "id": "af129e6c",
   "metadata": {},
   "outputs": [
    {
     "name": "stdout",
     "output_type": "stream",
     "text": [
      "['elena', 'damon', 'stefen', 'caroline']\n",
      "['elena', 'damon', 'katherina', 'stefen', 'caroline']\n"
     ]
    }
   ],
   "source": [
    "strings = ['elena', 'damon', 'stefen', 'caroline']\n",
    "print(strings)\n",
    "\n",
    "strings.insert(2, 'katherina')\n",
    "print(strings)"
   ]
  },
  {
   "cell_type": "code",
   "execution_count": 23,
   "id": "1ab8edd0",
   "metadata": {},
   "outputs": [
    {
     "name": "stdout",
     "output_type": "stream",
     "text": [
      "['elena', 'damon', 'katherina', 'stefen', 'caroline', 'klaus']\n"
     ]
    }
   ],
   "source": [
    "strings.append('klaus')\n",
    "print(strings)"
   ]
  },
  {
   "cell_type": "code",
   "execution_count": 24,
   "id": "39dd3aba",
   "metadata": {},
   "outputs": [
    {
     "name": "stdout",
     "output_type": "stream",
     "text": [
      "['elena', 'damon', 'katherina', 'stefen', 'caroline', 'klaus', 'bonnie', 'tyler', 'matt']\n"
     ]
    }
   ],
   "source": [
    "strings2 = ['bonnie', 'tyler', 'matt']\n",
    "strings.extend(strings2)\n",
    "print(strings)"
   ]
  },
  {
   "cell_type": "code",
   "execution_count": 6,
   "id": "dfb5059b",
   "metadata": {},
   "outputs": [
    {
     "name": "stdout",
     "output_type": "stream",
     "text": [
      "['a', 'b', 'c']\n",
      "['b', 'c', 'd', 'e']\n",
      "['d', 'e']\n"
     ]
    }
   ],
   "source": [
    "# Slicing\n",
    "lst = ['a','b','c','d','e']\n",
    "print(lst[:3])\n",
    "print(lst[1:5])\n",
    "print(lst[-2:])"
   ]
  },
  {
   "cell_type": "code",
   "execution_count": 17,
   "id": "9abdd753",
   "metadata": {},
   "outputs": [
    {
     "data": {
      "text/plain": [
       "'e'"
      ]
     },
     "execution_count": 17,
     "metadata": {},
     "output_type": "execute_result"
    }
   ],
   "source": [
    "lst = ['a','b','c','d','e']\n",
    "lst.pop(2)\n",
    "lst.pop(3)"
   ]
  },
  {
   "cell_type": "code",
   "execution_count": 20,
   "id": "db43df9b",
   "metadata": {},
   "outputs": [
    {
     "name": "stdout",
     "output_type": "stream",
     "text": [
      "['a', 'b', 'c', 'e']\n"
     ]
    }
   ],
   "source": [
    "lst = ['a','b','c','d','e']\n",
    "del lst[3]\n",
    "print(lst)"
   ]
  },
  {
   "cell_type": "code",
   "execution_count": 24,
   "id": "f6bf2cd3",
   "metadata": {},
   "outputs": [
    {
     "name": "stdout",
     "output_type": "stream",
     "text": [
      "['b', 'c', 'd', 'e']\n"
     ]
    }
   ],
   "source": [
    "lst = ['a','b','c','d','e']\n",
    "lst.remove('a')\n",
    "print(lst)"
   ]
  },
  {
   "cell_type": "code",
   "execution_count": 28,
   "id": "39ac7196",
   "metadata": {},
   "outputs": [
    {
     "name": "stdout",
     "output_type": "stream",
     "text": [
      "2\n",
      "2\n"
     ]
    }
   ],
   "source": [
    "# seaching element\n",
    "# by in operator\n",
    "lst = ['a','b','c','d','e']\n",
    "value = 'c'\n",
    "if value in lst:\n",
    "    print(lst.index(value))\n",
    "    \n",
    "# by loop\n",
    "for i in lst:\n",
    "    if i == value:\n",
    "        print(lst.index(i))"
   ]
  },
  {
   "cell_type": "code",
   "execution_count": 29,
   "id": "70f0e112",
   "metadata": {},
   "outputs": [
    {
     "name": "stdout",
     "output_type": "stream",
     "text": [
      "['a', 'b', 'c', 1, 2, 3]\n"
     ]
    }
   ],
   "source": [
    "# + operator : concatenate lists\n",
    "a = ['a', 'b', 'c']\n",
    "b = [1, 2, 3]\n",
    "c = a + b\n",
    "print(c)"
   ]
  },
  {
   "cell_type": "code",
   "execution_count": 31,
   "id": "d6756993",
   "metadata": {},
   "outputs": [
    {
     "name": "stdout",
     "output_type": "stream",
     "text": [
      "['a', 'b', 'a', 'b', 'a', 'b', 'a', 'b']\n"
     ]
    }
   ],
   "source": [
    "# * operator : repeat the same list\n",
    "lst = ['a','b']\n",
    "l = lst * 4\n",
    "print(l)"
   ]
  },
  {
   "cell_type": "code",
   "execution_count": 32,
   "id": "d86d9483",
   "metadata": {},
   "outputs": [
    {
     "name": "stdout",
     "output_type": "stream",
     "text": [
      "9\n",
      "75\n",
      "0\n",
      "139\n"
     ]
    }
   ],
   "source": [
    "lst = [1,4,3,5,2,6,43,75,0]\n",
    "print(len(lst))\n",
    "print(max(lst))\n",
    "print(min(lst))\n",
    "print(sum(lst))"
   ]
  },
  {
   "cell_type": "code",
   "execution_count": 34,
   "id": "9601db88",
   "metadata": {},
   "outputs": [
    {
     "name": "stdout",
     "output_type": "stream",
     "text": [
      "2\n",
      "3\n",
      "4\n",
      "2\n",
      "56\n",
      "3\n",
      "2\n",
      "done\n",
      "10.285714285714286\n"
     ]
    }
   ],
   "source": [
    "# Normal program to find avg\n",
    "total = 0\n",
    "count = 0\n",
    "while(True):\n",
    "    inp = input()\n",
    "    if inp == 'done': break\n",
    "    value = float(inp)\n",
    "    total = total + value\n",
    "    count = count + 1\n",
    "    average = total/count\n",
    "print(average)"
   ]
  },
  {
   "cell_type": "code",
   "execution_count": 2,
   "id": "719c4153",
   "metadata": {},
   "outputs": [
    {
     "name": "stdout",
     "output_type": "stream",
     "text": [
      "2\n",
      "3\n",
      "4\n",
      "2\n",
      "56\n",
      "3\n",
      "2\n",
      "done\n",
      "10.285714285714286\n"
     ]
    }
   ],
   "source": [
    "# program to find average by using function\n",
    "l = []\n",
    "while(True):\n",
    "    inp = input()\n",
    "    if inp == 'done': break\n",
    "    value = float(inp)\n",
    "    l.append(value)\n",
    "    average = sum(l)/len(l)\n",
    "print(average)\n"
   ]
  },
  {
   "cell_type": "code",
   "execution_count": 3,
   "id": "7f9d8f5e",
   "metadata": {},
   "outputs": [
    {
     "name": "stdout",
     "output_type": "stream",
     "text": [
      "['s', 'p', 'a', 'm']\n"
     ]
    }
   ],
   "source": [
    "# String\n",
    "a ='spam'\n",
    "b = list(a)\n",
    "print(b)"
   ]
  },
  {
   "cell_type": "code",
   "execution_count": 14,
   "id": "b89c4899",
   "metadata": {},
   "outputs": [
    {
     "name": "stdout",
     "output_type": "stream",
     "text": [
      "['spam', 'spam', 'spam']\n"
     ]
    }
   ],
   "source": [
    "a = 'spam-spam-spam'\n",
    "delimeter = '-'\n",
    "b = a.split(delimeter)\n",
    "print(b)"
   ]
  },
  {
   "cell_type": "code",
   "execution_count": 17,
   "id": "62e241c6",
   "metadata": {},
   "outputs": [
    {
     "name": "stdout",
     "output_type": "stream",
     "text": [
      "spam-spam-spam\n"
     ]
    }
   ],
   "source": [
    "c = delimeter.join(b)\n",
    "print(c)"
   ]
  }
 ],
 "metadata": {
  "kernelspec": {
   "display_name": "Python 3 (ipykernel)",
   "language": "python",
   "name": "python3"
  },
  "language_info": {
   "codemirror_mode": {
    "name": "ipython",
    "version": 3
   },
   "file_extension": ".py",
   "mimetype": "text/x-python",
   "name": "python",
   "nbconvert_exporter": "python",
   "pygments_lexer": "ipython3",
   "version": "3.9.13"
  }
 },
 "nbformat": 4,
 "nbformat_minor": 5
}
