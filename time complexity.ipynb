{
 "cells": [
  {
   "cell_type": "code",
   "execution_count": 1,
   "id": "0780aa5f",
   "metadata": {},
   "outputs": [],
   "source": [
    "array = [1, 2, 3, 4, 5]"
   ]
  },
  {
   "cell_type": "code",
   "execution_count": 2,
   "id": "05a53c09",
   "metadata": {},
   "outputs": [
    {
     "name": "stdout",
     "output_type": "stream",
     "text": [
      "######  Constant time complexity  #######\n",
      "1\n"
     ]
    }
   ],
   "source": [
    "######  Constant time complexity  #######\n",
    "print('######  Constant time complexity  #######')\n",
    "print(array[0])"
   ]
  },
  {
   "cell_type": "code",
   "execution_count": 3,
   "id": "659e5d4e",
   "metadata": {},
   "outputs": [
    {
     "name": "stdout",
     "output_type": "stream",
     "text": [
      "######  Linear time complexity  #######\n",
      "1\n",
      "2\n",
      "3\n",
      "4\n",
      "5\n"
     ]
    }
   ],
   "source": [
    "######  Linear time complexity  #######\n",
    "print('######  Linear time complexity  #######')\n",
    "for element in array:\n",
    "     print(element)"
   ]
  },
  {
   "cell_type": "code",
   "execution_count": 4,
   "id": "961b9a46",
   "metadata": {},
   "outputs": [
    {
     "name": "stdout",
     "output_type": "stream",
     "text": [
      "######  Logarithmic time complexity  #######\n",
      "1\n",
      "4\n"
     ]
    }
   ],
   "source": [
    "######  Logarithmic time complexity  #######\n",
    "print('######  Logarithmic time complexity  #######')\n",
    "for index in range(0,len(array),3):\n",
    "     print(array[index])"
   ]
  },
  {
   "cell_type": "code",
   "execution_count": 5,
   "id": "e61ee2ba",
   "metadata": {},
   "outputs": [
    {
     "name": "stdout",
     "output_type": "stream",
     "text": [
      "######  Quadratic time complexity  #######\n",
      "1 1\n",
      "1 2\n",
      "1 3\n",
      "1 4\n",
      "1 5\n",
      "2 1\n",
      "2 2\n",
      "2 3\n",
      "2 4\n",
      "2 5\n",
      "3 1\n",
      "3 2\n",
      "3 3\n",
      "3 4\n",
      "3 5\n",
      "4 1\n",
      "4 2\n",
      "4 3\n",
      "4 4\n",
      "4 5\n",
      "5 1\n",
      "5 2\n",
      "5 3\n",
      "5 4\n",
      "5 5\n"
     ]
    }
   ],
   "source": [
    "######  Quadratic time complexity  #######\n",
    "print('######  Quadratic time complexity  #######')\n",
    "for x in array:\n",
    "    for y in array:\n",
    "         print(x,y)"
   ]
  },
  {
   "cell_type": "code",
   "execution_count": 8,
   "id": "d8bcaf95",
   "metadata": {},
   "outputs": [
    {
     "name": "stdout",
     "output_type": "stream",
     "text": [
      "######  Exponential time complexity  #######\n",
      "3\n"
     ]
    }
   ],
   "source": [
    "######  Exponential time complexity  #######\n",
    "print('######  Exponential time complexity  #######')\n",
    "def fibonacci(n):\n",
    "    if n <= 1:\n",
    "        return n\n",
    "    return fibonacci(n-1) + fibonacci(n-2)\n",
    "print(fibonacci(4))"
   ]
  },
  {
   "cell_type": "code",
   "execution_count": 1,
   "id": "5e1a8537",
   "metadata": {},
   "outputs": [],
   "source": [
    "######  Add vs Multiply ####### \n",
    "arrayA = [1,2,3,4,5,6,7,8,9]\n",
    "arrayB = [11,12,13,14,15,16,17,18,19] "
   ]
  },
  {
   "cell_type": "code",
   "execution_count": 3,
   "id": "fb696609",
   "metadata": {},
   "outputs": [
    {
     "name": "stdout",
     "output_type": "stream",
     "text": [
      "1\n",
      "2\n",
      "3\n",
      "4\n",
      "5\n",
      "6\n",
      "7\n",
      "8\n",
      "9\n",
      "11\n",
      "12\n",
      "13\n",
      "14\n",
      "15\n",
      "16\n",
      "17\n",
      "18\n",
      "19\n"
     ]
    }
   ],
   "source": [
    "# TC: O(A+B)\n",
    "for a in arrayA:\n",
    "    print(a)\n",
    "\n",
    "for b in arrayB:\n",
    "    print(b)"
   ]
  },
  {
   "cell_type": "code",
   "execution_count": 5,
   "id": "5ac845bc",
   "metadata": {},
   "outputs": [
    {
     "name": "stdout",
     "output_type": "stream",
     "text": [
      "1 11\n",
      "1 12\n",
      "1 13\n",
      "1 14\n",
      "1 15\n",
      "1 16\n",
      "1 17\n",
      "1 18\n",
      "1 19\n",
      "2 11\n",
      "2 12\n",
      "2 13\n",
      "2 14\n",
      "2 15\n",
      "2 16\n",
      "2 17\n",
      "2 18\n",
      "2 19\n",
      "3 11\n",
      "3 12\n",
      "3 13\n",
      "3 14\n",
      "3 15\n",
      "3 16\n",
      "3 17\n",
      "3 18\n",
      "3 19\n",
      "4 11\n",
      "4 12\n",
      "4 13\n",
      "4 14\n",
      "4 15\n",
      "4 16\n",
      "4 17\n",
      "4 18\n",
      "4 19\n",
      "5 11\n",
      "5 12\n",
      "5 13\n",
      "5 14\n",
      "5 15\n",
      "5 16\n",
      "5 17\n",
      "5 18\n",
      "5 19\n",
      "6 11\n",
      "6 12\n",
      "6 13\n",
      "6 14\n",
      "6 15\n",
      "6 16\n",
      "6 17\n",
      "6 18\n",
      "6 19\n",
      "7 11\n",
      "7 12\n",
      "7 13\n",
      "7 14\n",
      "7 15\n",
      "7 16\n",
      "7 17\n",
      "7 18\n",
      "7 19\n",
      "8 11\n",
      "8 12\n",
      "8 13\n",
      "8 14\n",
      "8 15\n",
      "8 16\n",
      "8 17\n",
      "8 18\n",
      "8 19\n",
      "9 11\n",
      "9 12\n",
      "9 13\n",
      "9 14\n",
      "9 15\n",
      "9 16\n",
      "9 17\n",
      "9 18\n",
      "9 19\n"
     ]
    }
   ],
   "source": [
    "# TC: O(A*B)\n",
    "for a in arrayA:\n",
    "    for b in arrayB:\n",
    "        print(a,b)"
   ]
  },
  {
   "cell_type": "code",
   "execution_count": 7,
   "id": "26b21f78",
   "metadata": {},
   "outputs": [
    {
     "name": "stdout",
     "output_type": "stream",
     "text": [
      "99\n"
     ]
    }
   ],
   "source": [
    "######  Iterative algorithm - finding the biggest number in the array #### \n",
    "\n",
    "sample1Array = [1,10,45,33,23,45,67,2,3,33,55,11,65,76,34,35,27,99]\n",
    "\n",
    "def findBiggestNumber(sampleArray):\n",
    "    biggestNumber = sampleArray[0]\n",
    "    for index in range(1,len(sampleArray)):\n",
    "        if sampleArray[index] > biggestNumber:\n",
    "            biggestNumber = sampleArray[index]\n",
    "    print(biggestNumber)\n",
    "\n",
    "findBiggestNumber(sample1Array)\n"
   ]
  },
  {
   "cell_type": "code",
   "execution_count": 8,
   "id": "75a7dc21",
   "metadata": {},
   "outputs": [
    {
     "name": "stdout",
     "output_type": "stream",
     "text": [
      "99\n"
     ]
    }
   ],
   "source": [
    "######  Recursive algorithm - finding the biggest number in the array ###### \n",
    "\n",
    "def findMaxNumRec(sampleArray, n):\n",
    "    if n == 1:\n",
    "        return sampleArray[0]\n",
    "    return max(sampleArray[n-1],findMaxNumRec(sampleArray,n-1))\n",
    "\n",
    "print(findMaxNumRec(sample1Array,len(sample1Array)))"
   ]
  },
  {
   "cell_type": "code",
   "execution_count": 10,
   "id": "13062954",
   "metadata": {},
   "outputs": [
    {
     "name": "stdout",
     "output_type": "stream",
     "text": [
      "4\n"
     ]
    }
   ],
   "source": [
    "######  Recursive algorithm multiple calls ####### \n",
    "\n",
    "def f(n):\n",
    "    if n <= 1:\n",
    "        return 1\n",
    "    return f(n-1) + f(n-1)\n",
    "\n",
    "print(f(3))"
   ]
  },
  {
   "cell_type": "code",
   "execution_count": 11,
   "id": "db645cf1",
   "metadata": {},
   "outputs": [],
   "source": [
    "######  Quiz Questions ####### \n",
    "\n",
    "\n",
    "def f1(n):\n",
    "    if n <= 0:\n",
    "        return 1\n",
    "    else:\n",
    "        return 1 + f1(n-1)\n",
    "\n",
    "\n",
    "def f2(n):\n",
    "    if n <= 0:\n",
    "        return 1\n",
    "    else:\n",
    "        return 1 + f2(n-5)\n",
    "\n",
    "\n",
    "def f3(n):\n",
    "    if n <= 0:\n",
    "        return 1\n",
    "    else:\n",
    "        return 1 + f3(n/5)\n",
    "\n",
    "\n",
    "def f4(n,m,o):\n",
    "    if n<=0:\n",
    "        print(n,m,o)\n",
    "    else:\n",
    "        f4(n-1,m+1,o)\n",
    "        f4(n-1,m,o+1)\n",
    "\n",
    "def f5(n):\n",
    "    for i in range(0,n,2):\n",
    "        print(i)  \n",
    "    if n<=0:\n",
    "        return 1\n",
    "    else:\n",
    "        return 1 + f5(n-5)\n"
   ]
  }
 ],
 "metadata": {
  "kernelspec": {
   "display_name": "Python 3 (ipykernel)",
   "language": "python",
   "name": "python3"
  },
  "language_info": {
   "codemirror_mode": {
    "name": "ipython",
    "version": 3
   },
   "file_extension": ".py",
   "mimetype": "text/x-python",
   "name": "python",
   "nbconvert_exporter": "python",
   "pygments_lexer": "ipython3",
   "version": "3.9.13"
  }
 },
 "nbformat": 4,
 "nbformat_minor": 5
}
