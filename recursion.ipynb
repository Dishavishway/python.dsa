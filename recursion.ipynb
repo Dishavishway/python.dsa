{
 "cells": [
  {
   "cell_type": "code",
   "execution_count": 5,
   "id": "cfe77a4e",
   "metadata": {},
   "outputs": [
    {
     "name": "stdout",
     "output_type": "stream",
     "text": [
      "All dolls are opened.\n",
      "2\n",
      "3\n",
      "4\n",
      "5\n",
      "6\n"
     ]
    }
   ],
   "source": [
    "def openRussianDolls(doll):\n",
    "    if doll == 1:\n",
    "        print(\"All dolls are opened.\")\n",
    "    else:\n",
    "        openRussianDolls(doll-1)\n",
    "        print(doll)\n",
    "openRussianDolls(6)"
   ]
  },
  {
   "cell_type": "code",
   "execution_count": 7,
   "id": "6c1f60bd",
   "metadata": {},
   "outputs": [
    {
     "name": "stdout",
     "output_type": "stream",
     "text": [
      "I am fourth method.\n",
      "I am third method.\n",
      "I am second method.\n",
      "I am first method.\n"
     ]
    }
   ],
   "source": [
    "def firstMethod():\n",
    "    secondMethod()\n",
    "    print(\"I am first method.\")\n",
    "def secondMethod():\n",
    "    thirdMethod()\n",
    "    print(\"I am second method.\")\n",
    "def thirdMethod():\n",
    "    fourthMethod()\n",
    "    print(\"I am third method.\")\n",
    "def fourthMethod():\n",
    "    print(\"I am fourth method.\")\n",
    "\n",
    "firstMethod()"
   ]
  },
  {
   "cell_type": "code",
   "execution_count": 11,
   "id": "f891c275",
   "metadata": {},
   "outputs": [
    {
     "name": "stdout",
     "output_type": "stream",
     "text": [
      "n is less than 1\n",
      "1\n",
      "2\n",
      "3\n",
      "4\n",
      "5\n",
      "6\n",
      "7\n"
     ]
    }
   ],
   "source": [
    "def recursiveMethod(n):\n",
    "    if n<1:\n",
    "        print(\"n is less than 1\")\n",
    "    else:\n",
    "        recursiveMethod(n-1)\n",
    "        print(n)\n",
    "\n",
    "recursiveMethod(7)"
   ]
  },
  {
   "cell_type": "code",
   "execution_count": 13,
   "id": "7b3f865f",
   "metadata": {},
   "outputs": [
    {
     "data": {
      "text/plain": [
       "8"
      ]
     },
     "execution_count": 13,
     "metadata": {},
     "output_type": "execute_result"
    }
   ],
   "source": [
    "def powerOfTwo(n):\n",
    "    if n==0:\n",
    "        return 1\n",
    "    else:\n",
    "        power = powerOfTwo(n-1)\n",
    "        return power*2\n",
    "powerOfTwo(3)"
   ]
  },
  {
   "cell_type": "code",
   "execution_count": 14,
   "id": "8b938362",
   "metadata": {},
   "outputs": [
    {
     "data": {
      "text/plain": [
       "8"
      ]
     },
     "execution_count": 14,
     "metadata": {},
     "output_type": "execute_result"
    }
   ],
   "source": [
    "def powerOfTwo(n):\n",
    "    i = 0\n",
    "    power = 1\n",
    "    while i < n:\n",
    "        power = power *2\n",
    "        i=i+1\n",
    "    return power\n",
    "powerOfTwo(3)"
   ]
  },
  {
   "cell_type": "code",
   "execution_count": 5,
   "id": "42dbfc97",
   "metadata": {
    "scrolled": true
   },
   "outputs": [
    {
     "name": "stdout",
     "output_type": "stream",
     "text": [
      "87\n",
      "2107757298379527717213600518699389595229783738061356212322972511214654115727593174080683423236414793504734471782400000000000000000000\n"
     ]
    }
   ],
   "source": [
    "def factorial(n):\n",
    "    assert n>=1 and int(n) == n, \"The number should be positive\"\n",
    "    if n==1 or n==0:\n",
    "        return 1\n",
    "    else:\n",
    "        return n * factorial(n-1)\n",
    "    \n",
    "num = int(input(\n",
    "\n",
    "))\n",
    "print(factorial(num))"
   ]
  },
  {
   "cell_type": "code",
   "execution_count": 12,
   "id": "5eae38e5",
   "metadata": {},
   "outputs": [
    {
     "name": "stdout",
     "output_type": "stream",
     "text": [
      "8\n"
     ]
    }
   ],
   "source": [
    "def fibonacci(n):\n",
    "    assert n >=0 and int(n) == n, 'n should be non negative integer number'\n",
    "    if n in [0,1]:\n",
    "        return n\n",
    "    else:\n",
    "        return fibonacci(n-1) + fibonacci(n-2)\n",
    "print(fibonacci(6))"
   ]
  },
  {
   "cell_type": "markdown",
   "id": "6a205cf1",
   "metadata": {},
   "source": [
    "# Interview questions"
   ]
  },
  {
   "cell_type": "code",
   "execution_count": 20,
   "id": "358a6cb2",
   "metadata": {},
   "outputs": [
    {
     "name": "stdout",
     "output_type": "stream",
     "text": [
      "7\n",
      "6\n",
      "11\n"
     ]
    }
   ],
   "source": [
    "# que 1: How to find sum of digits of a positive integer number using recursion.\n",
    "def sumOfDigit(n):\n",
    "    assert n >=0 and int(n) == n, 'n should be non negative integer number'\n",
    "    if n == 0:\n",
    "        return 0\n",
    "    else:\n",
    "        return int(n%10) + sumOfDigit(int(n//10))\n",
    "    \n",
    "print(sumOfDigit(52))\n",
    "print(sumOfDigit(123))\n",
    "print(sumOfDigit(5222))"
   ]
  },
  {
   "cell_type": "code",
   "execution_count": 3,
   "id": "da320dbb",
   "metadata": {
    "scrolled": true
   },
   "outputs": [
    {
     "name": "stdout",
     "output_type": "stream",
     "text": [
      "16\n"
     ]
    }
   ],
   "source": [
    "# How to calculate power of a number using recursion.\n",
    "def power(base, exp):\n",
    "    if exp == 0:\n",
    "        return 1\n",
    "    if exp == 1:\n",
    "        return base\n",
    "    return base * power(base, exp-1)\n",
    "print(power(2,4))"
   ]
  },
  {
   "cell_type": "code",
   "execution_count": 7,
   "id": "e806dc5c",
   "metadata": {},
   "outputs": [
    {
     "data": {
      "text/plain": [
       "6"
      ]
     },
     "execution_count": 7,
     "metadata": {},
     "output_type": "execute_result"
    }
   ],
   "source": [
    "# How to find GCD(Greatest common factor) of two numbers using recursion.\n",
    "def gcd(a, b):\n",
    "    assert int(a)==a and int(b)==b, 'Both numbers should be positive.'\n",
    "    if a<0:\n",
    "        a=-1*a\n",
    "    if b<0:\n",
    "        b=-1*b\n",
    "    if b == 0:\n",
    "        return a\n",
    "    else:\n",
    "        return gcd(b, a%b ) \n",
    "gcd(48, -18)"
   ]
  },
  {
   "cell_type": "code",
   "execution_count": 14,
   "id": "1ff76e37",
   "metadata": {},
   "outputs": [
    {
     "data": {
      "text/plain": [
       "1101"
      ]
     },
     "execution_count": 14,
     "metadata": {},
     "output_type": "execute_result"
    }
   ],
   "source": [
    "# How to convert a number from decimal to binary using recursion.\n",
    "def decimalToBinary(n):\n",
    "    assert int(n)==n, 'The parameters must be an integer only!'\n",
    "    if n == 0:\n",
    "        return 0\n",
    "    else:\n",
    "        return n%2 + 10 * decimalToBinary(int(n/2))\n",
    "decimalToBinary(13)"
   ]
  }
 ],
 "metadata": {
  "kernelspec": {
   "display_name": "Python 3 (ipykernel)",
   "language": "python",
   "name": "python3"
  },
  "language_info": {
   "codemirror_mode": {
    "name": "ipython",
    "version": 3
   },
   "file_extension": ".py",
   "mimetype": "text/x-python",
   "name": "python",
   "nbconvert_exporter": "python",
   "pygments_lexer": "ipython3",
   "version": "3.9.13"
  }
 },
 "nbformat": 4,
 "nbformat_minor": 5
}
