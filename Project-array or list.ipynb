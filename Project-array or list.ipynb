{
 "cells": [
  {
   "cell_type": "code",
   "execution_count": 4,
   "id": "cdd1dcd6",
   "metadata": {},
   "outputs": [
    {
     "name": "stdout",
     "output_type": "stream",
     "text": [
      "How many day's temperature: 3\n",
      "Day's 1 high temperature: 20\n",
      "Day's 2 high temperature: 30\n",
      "Day's 3 high temperature: 50\n",
      "Average =  33\n",
      "1day(s) above temp\n"
     ]
    }
   ],
   "source": [
    "days = int(input(\"How many day's temperature: \"))\n",
    "total = 0\n",
    "above = 0\n",
    "t = []\n",
    "for i in range(days):\n",
    "    temp = int(input(\"Day's \"+str(i+1)+\" high temperature: \"))\n",
    "    t.append(temp)\n",
    "    total +=temp\n",
    "\n",
    "avg = round(total/days)\n",
    "print(\"Average = \", str(avg))\n",
    "\n",
    "for i in t:\n",
    "    if i > avg:\n",
    "        above+=1\n",
    "print(str(above)+ \" day(s) above temp\")"
   ]
  },
  {
   "cell_type": "code",
   "execution_count": null,
   "id": "770a5f91",
   "metadata": {},
   "outputs": [],
   "source": []
  }
 ],
 "metadata": {
  "kernelspec": {
   "display_name": "Python 3 (ipykernel)",
   "language": "python",
   "name": "python3"
  },
  "language_info": {
   "codemirror_mode": {
    "name": "ipython",
    "version": 3
   },
   "file_extension": ".py",
   "mimetype": "text/x-python",
   "name": "python",
   "nbconvert_exporter": "python",
   "pygments_lexer": "ipython3",
   "version": "3.9.13"
  }
 },
 "nbformat": 4,
 "nbformat_minor": 5
}
