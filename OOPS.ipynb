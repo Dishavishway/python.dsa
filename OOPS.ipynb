{
 "cells": [
  {
   "cell_type": "code",
   "execution_count": 2,
   "id": "078ef22f",
   "metadata": {},
   "outputs": [
    {
     "name": "stdout",
     "output_type": "stream",
     "text": [
      "I am a student.\n",
      "I am a student.\n"
     ]
    }
   ],
   "source": [
    "# method access by class \n",
    "class student:\n",
    "    def stu_name(self):\n",
    "        print(\"I am a student.\")\n",
    "student1 = student()\n",
    "student2 = student()\n",
    "student.stu_name(student1)\n",
    "student.stu_name(student2)"
   ]
  },
  {
   "cell_type": "code",
   "execution_count": 4,
   "id": "09c5a686",
   "metadata": {},
   "outputs": [
    {
     "name": "stdout",
     "output_type": "stream",
     "text": [
      "I am a student.\n",
      "I am a student.\n"
     ]
    }
   ],
   "source": [
    "# method access by object\n",
    "class student:\n",
    "    def stu_name(self):\n",
    "        print(\"I am a student.\")\n",
    "student1 = student()\n",
    "student2 = student()\n",
    "student1.stu_name()\n",
    "student2.stu_name()"
   ]
  },
  {
   "cell_type": "code",
   "execution_count": 5,
   "id": "b3ec84c9",
   "metadata": {},
   "outputs": [
    {
     "data": {
      "text/plain": [
       "3"
      ]
     },
     "execution_count": 5,
     "metadata": {},
     "output_type": "execute_result"
    }
   ],
   "source": [
    "# an in built function\n",
    "a = 5\n",
    "a.bit_length()"
   ]
  },
  {
   "cell_type": "code",
   "execution_count": 8,
   "id": "8f72c7da",
   "metadata": {},
   "outputs": [
    {
     "name": "stdout",
     "output_type": "stream",
     "text": [
      "I am constructor\n",
      "I am constructor\n",
      "i am teacher\n",
      "i am teacher\n"
     ]
    }
   ],
   "source": [
    "class school:\n",
    "    def __init__(self):\n",
    "        print(\"I am constructor\")\n",
    "    def teacher(self):\n",
    "        print(\"i am teacher\")\n",
    "t1 = school()\n",
    "t2 = school()\n",
    "t1.teacher()\n",
    "t2.teacher()"
   ]
  },
  {
   "cell_type": "code",
   "execution_count": 10,
   "id": "2c5817a8",
   "metadata": {},
   "outputs": [
    {
     "name": "stdout",
     "output_type": "stream",
     "text": [
      "disha and 20\n"
     ]
    }
   ],
   "source": [
    "class employee:\n",
    "    def __init__(self, name, age):\n",
    "        self.name = name\n",
    "        self.age = age\n",
    "    def print_detail(x):\n",
    "        print(x.name, \"and\", x.age)\n",
    "emp = employee(\"disha\", 20)\n",
    "emp.print_detail()\n"
   ]
  },
  {
   "cell_type": "code",
   "execution_count": 20,
   "id": "a1caf2ad",
   "metadata": {},
   "outputs": [
    {
     "name": "stdout",
     "output_type": "stream",
     "text": [
      "1895961999392\n"
     ]
    }
   ],
   "source": [
    "class students:\n",
    "    pass\n",
    "s = students()\n",
    "print(id(s))"
   ]
  },
  {
   "cell_type": "code",
   "execution_count": 23,
   "id": "36ecfd8a",
   "metadata": {},
   "outputs": [
    {
     "name": "stdout",
     "output_type": "stream",
     "text": [
      "vinnie\n",
      "vinnie\n",
      "1895961998336 \n",
      "\n",
      "disha\n",
      "vinnie\n",
      "1895961998336\n"
     ]
    }
   ],
   "source": [
    "class name_:\n",
    "    def __init__(self):\n",
    "        self.name = \"vinnie\"\n",
    "        self.age = 20\n",
    "n1 = name_()\n",
    "n2 = name_()\n",
    "print(n1.name)\n",
    "print(n2.name)\n",
    "print(id(n1), \"\\n\")\n",
    "\n",
    "n1.name = \"disha\"\n",
    "print(n1.name)\n",
    "print(n2.name)\n",
    "print(id(n1))"
   ]
  },
  {
   "cell_type": "code",
   "execution_count": 27,
   "id": "0d747ab2",
   "metadata": {},
   "outputs": [
    {
     "name": "stdout",
     "output_type": "stream",
     "text": [
      "nikkie\n",
      "vinnie\n"
     ]
    }
   ],
   "source": [
    "class name_:\n",
    "    def __init__(self):\n",
    "        self.name = \"vinnie\"\n",
    "        self.age = 20\n",
    "    def update(self):\n",
    "        self.name = \"nikkie\"\n",
    "n1 = name_()\n",
    "n2 = name_()\n",
    "n1.update()\n",
    "print(n1.name)\n",
    "print(n2.name)"
   ]
  },
  {
   "cell_type": "code",
   "execution_count": 33,
   "id": "7978f09a",
   "metadata": {},
   "outputs": [
    {
     "name": "stdout",
     "output_type": "stream",
     "text": [
      "They are different\n"
     ]
    }
   ],
   "source": [
    "class name_:\n",
    "    def __init__(self):\n",
    "        self.name = \"vinnie\"\n",
    "        self.age = 20\n",
    "    def compare(self, other): # here self become n1 and other become n2\n",
    "        if self.name == other.name:\n",
    "            return True\n",
    "        else:\n",
    "            return False\n",
    "n1 = name_()\n",
    "n2 = name_()\n",
    "n2.name = \"nikkie\"\n",
    "if n1.compare(n2) :\n",
    "    print(\"They are same\")\n",
    "else:\n",
    "    print(\"They are different\")"
   ]
  },
  {
   "cell_type": "code",
   "execution_count": 39,
   "id": "21c9bd93",
   "metadata": {},
   "outputs": [
    {
     "name": "stdout",
     "output_type": "stream",
     "text": [
      "4\n",
      "6\n",
      "20 BMW 6\n",
      "20 BMW 9\n"
     ]
    }
   ],
   "source": [
    "class cars:\n",
    "    wheels = 4 # class(static) variable\n",
    "    \n",
    "    def __init__(self):\n",
    "        self.mileage = 20\n",
    "        self.company = \"BMW\"\n",
    "c1 = cars()\n",
    "c2 = cars()\n",
    "print(cars.wheels)\n",
    "cars.wheels = 6 # class variable also access by class name\n",
    "print(cars.wheels)\n",
    "print(c1.mileage, c1.company, c1.wheels)\n",
    "c2.wheels = 9\n",
    "print(c2.mileage, c2.company, c2.wheels)"
   ]
  },
  {
   "cell_type": "code",
   "execution_count": 1,
   "id": "7c9f4823",
   "metadata": {},
   "outputs": [
    {
     "name": "stdout",
     "output_type": "stream",
     "text": [
      "72.33333333333333\n",
      "58.333333333333336\n"
     ]
    }
   ],
   "source": [
    "class student():\n",
    "    college = \"sistec\"\n",
    "    \n",
    "    def __init__(self,m1,m2,m3):\n",
    "        self.m1 = m1\n",
    "        self.m2 = m2\n",
    "        self.m3 = m3\n",
    "        \n",
    "    def avg(self):           # INSTANCE METHOD\n",
    "        return (self.m1 + self.m2 + self.m3)/3\n",
    "    \n",
    "s = student(43,76,98)\n",
    "s2 = student (54,87, 34)\n",
    "print(s.avg())\n",
    "print(s2.avg())"
   ]
  },
  {
   "cell_type": "code",
   "execution_count": 3,
   "id": "7889daa8",
   "metadata": {},
   "outputs": [],
   "source": [
    "class student():\n",
    "    college = \"sistec\"\n",
    "    \n",
    "    def __init__(self,m1,m2,m3):\n",
    "        self.m1 = m1\n",
    "        self.m2 = m2\n",
    "        self.m3 = m3\n",
    "    def avg(self):           # INSTANCE METHOD\n",
    "         return (self.m1 + self.m2 + self.m3)/3\n",
    "        \n",
    "    def getter(self): # accessor method --->it is a type of instance method\n",
    "        return self.m1\n",
    "    \n",
    "    def setter(self, value): # mutator method ----> also type of instance method\n",
    "        self.m1 = value\n"
   ]
  },
  {
   "cell_type": "code",
   "execution_count": 12,
   "id": "df1488ec",
   "metadata": {},
   "outputs": [
    {
     "name": "stdout",
     "output_type": "stream",
     "text": [
      "sistec\n",
      "static method\n"
     ]
    }
   ],
   "source": [
    "class student():\n",
    "    college = \"sistec\"\n",
    "    \n",
    "    def __init__(self,m1,m2,m3):\n",
    "        self.m1 = m1\n",
    "        self.m2 = m2\n",
    "        self.m3 = m3\n",
    "    def avg(self):           # INSTANCE METHOD\n",
    "         return (self.m1 + self.m2 + self.m3)/3\n",
    "    \n",
    "    @classmethod\n",
    "    def info(cls): # class method\n",
    "        return cls.college\n",
    "    \n",
    "    @staticmethod\n",
    "    def static():\n",
    "        print(\"static method\")\n",
    "s = student(234,45,234)\n",
    "print(student.info())\n",
    "s.static()"
   ]
  },
  {
   "cell_type": "code",
   "execution_count": 19,
   "id": "7669dac5",
   "metadata": {},
   "outputs": [
    {
     "name": "stdout",
     "output_type": "stream",
     "text": [
      "hp\n",
      "disha 13\n",
      "8 hp i5\n"
     ]
    }
   ],
   "source": [
    "# outer class\n",
    "class student:\n",
    "    \n",
    "    def __init__(self, name, rollno):\n",
    "        self.name = name\n",
    "        self.rollno = rollno\n",
    "        self.lap = self.laptop()# object of laptop class\n",
    "    \n",
    "    def show(self):\n",
    "        print(self.name, self.rollno)\n",
    "        self.lap.show()\n",
    "    \n",
    "    #inner class\n",
    "    class laptop:\n",
    "        \n",
    "        def __init__(self):\n",
    "            self.ram = 8\n",
    "            self.brand = 'hp'\n",
    "            self.cpu = 'i5'\n",
    "        \n",
    "        def show(self):\n",
    "            print(self.ram, self.brand, self.cpu)\n",
    "\n",
    "s1 = student('disha', 13)\n",
    "print(s1.lap.brand)\n",
    "lap1 = student.laptop() # object of inner class \n",
    "s1.show()"
   ]
  },
  {
   "cell_type": "code",
   "execution_count": 3,
   "id": "abb446aa",
   "metadata": {},
   "outputs": [
    {
     "name": "stdout",
     "output_type": "stream",
     "text": [
      "feature1 is working.\n",
      "feature2 is working.\n",
      "feature3 is working.\n",
      "feature4 is working.\n"
     ]
    }
   ],
   "source": [
    "# Single inheritance\n",
    "class A: #parent class\n",
    "    def feature1(self):\n",
    "        print(\"feature1 is working.\")\n",
    "    def feature2(self):\n",
    "        print(\"feature2 is working.\")\n",
    "class B(A): # child class\n",
    "    def feature3(self):\n",
    "        print(\"feature3 is working.\")\n",
    "    def feature4(self):\n",
    "        print(\"feature4 is working.\")\n",
    "b = B() \n",
    "b.feature1()\n",
    "b.feature2()\n",
    "b.feature3()\n",
    "b.feature4()"
   ]
  },
  {
   "cell_type": "code",
   "execution_count": 6,
   "id": "c189b55d",
   "metadata": {},
   "outputs": [
    {
     "name": "stdout",
     "output_type": "stream",
     "text": [
      "feature1 is working.\n",
      "feature2 is working.\n",
      "feature3 is working.\n",
      "feature4 is working.\n",
      "feature5 is working.\n",
      "feature6 is working.\n"
     ]
    }
   ],
   "source": [
    "# MultiLevel inheritence\n",
    "class A: #parent class\n",
    "    def feature1(self):\n",
    "        print(\"feature1 is working.\")\n",
    "    def feature2(self):\n",
    "        print(\"feature2 is working.\")\n",
    "class B(A): # child class\n",
    "    def feature3(self):\n",
    "        print(\"feature3 is working.\")\n",
    "    def feature4(self):\n",
    "        print(\"feature4 is working.\")\n",
    "class C(B): # child class\n",
    "    def feature5(self):\n",
    "        print(\"feature5 is working.\")\n",
    "    def feature6(self):\n",
    "        print(\"feature6 is working.\")\n",
    "c = C()\n",
    "c.feature1()\n",
    "c.feature2()\n",
    "c.feature3()\n",
    "c.feature4()\n",
    "c.feature5()\n",
    "c.feature6()"
   ]
  },
  {
   "cell_type": "code",
   "execution_count": 7,
   "id": "f4cf71a8",
   "metadata": {},
   "outputs": [
    {
     "name": "stdout",
     "output_type": "stream",
     "text": [
      "feature1 is working.\n",
      "feature2 is working.\n",
      "feature3 is working.\n",
      "feature4 is working.\n",
      "feature5 is working.\n",
      "feature6 is working.\n"
     ]
    }
   ],
   "source": [
    "# multiple inheritance\n",
    "class A: #parent class\n",
    "    def feature1(self):\n",
    "        print(\"feature1 is working.\")\n",
    "    def feature2(self):\n",
    "        print(\"feature2 is working.\")\n",
    "class B: # parent class\n",
    "    def feature3(self):\n",
    "        print(\"feature3 is working.\")\n",
    "    def feature4(self):\n",
    "        print(\"feature4 is working.\")\n",
    "class C(A,B): # child class\n",
    "    def feature5(self):\n",
    "        print(\"feature5 is working.\")\n",
    "    def feature6(self):\n",
    "        print(\"feature6 is working.\")\n",
    "c = C()\n",
    "c.feature1()\n",
    "c.feature2()\n",
    "c.feature3()\n",
    "c.feature4()\n",
    "c.feature5()\n",
    "c.feature6()"
   ]
  },
  {
   "cell_type": "code",
   "execution_count": 9,
   "id": "9946dd8b",
   "metadata": {},
   "outputs": [
    {
     "name": "stdout",
     "output_type": "stream",
     "text": [
      "A class Constructor\n"
     ]
    }
   ],
   "source": [
    "#constructor in inheritance\n",
    "class A: #parent class\n",
    "    def __init__(self):\n",
    "        print(\"A class Constructor\")\n",
    "    def feature1(self):\n",
    "        print(\"feature1 is working.\")\n",
    "    def feature2(self):\n",
    "        print(\"feature2 is working.\")\n",
    "class B(A): # child class\n",
    "    def feature3(self):\n",
    "        print(\"feature3 is working.\")\n",
    "    def feature4(self):\n",
    "        print(\"feature4 is working.\")\n",
    "a =B()"
   ]
  },
  {
   "cell_type": "code",
   "execution_count": 10,
   "id": "347ac665",
   "metadata": {},
   "outputs": [
    {
     "name": "stdout",
     "output_type": "stream",
     "text": [
      "B class Constructor\n"
     ]
    }
   ],
   "source": [
    "class A: #parent class\n",
    "    def __init__(self):\n",
    "        print(\"A class Constructor\")\n",
    "    def feature1(self):\n",
    "        print(\"feature1 is working.\")\n",
    "    def feature2(self):\n",
    "        print(\"feature2 is working.\")\n",
    "class B(A): # child class\n",
    "    def __init__(self):\n",
    "        print(\"B class Constructor\")\n",
    "    def feature3(self):\n",
    "        print(\"feature3 is working.\")\n",
    "    def feature4(self):\n",
    "        print(\"feature4 is working.\")\n",
    "a =B()"
   ]
  },
  {
   "cell_type": "code",
   "execution_count": 11,
   "id": "7ac0699e",
   "metadata": {},
   "outputs": [
    {
     "name": "stdout",
     "output_type": "stream",
     "text": [
      "A class Constructor\n",
      "B class Constructor\n"
     ]
    }
   ],
   "source": [
    "class A: #parent class\n",
    "    def __init__(self):\n",
    "        print(\"A class Constructor\")\n",
    "    def feature1(self):\n",
    "        print(\"feature1 is working.\")\n",
    "    def feature2(self):\n",
    "        print(\"feature2 is working.\")\n",
    "class B(A): # child class\n",
    "    def __init__(self):\n",
    "        super().__init__()  #  use for access A class constructor\n",
    "        print(\"B class Constructor\")\n",
    "    def feature3(self):\n",
    "        print(\"feature3 is working.\")\n",
    "    def feature4(self):\n",
    "        print(\"feature4 is working.\")\n",
    "a =B()"
   ]
  },
  {
   "cell_type": "code",
   "execution_count": 20,
   "id": "01a5ad37",
   "metadata": {},
   "outputs": [
    {
     "name": "stdout",
     "output_type": "stream",
     "text": [
      "A class Constructor\n",
      "C class Constructor\n",
      "feature1-A is working.\n",
      "feature2 is working.\n"
     ]
    }
   ],
   "source": [
    "#MRO--> METHOD RESOLUTION ORDER\n",
    "class A: #parent class\n",
    "    def __init__(self):\n",
    "        print(\"A class Constructor\")\n",
    "    def feature1(self):\n",
    "        print(\"feature1-A is working.\")\n",
    "    def feature2(self):\n",
    "        print(\"feature2 is working.\")\n",
    "class B: # parent class\n",
    "    def __init__(self):\n",
    "        print(\"B class Constructor\")\n",
    "    def feature1(self):\n",
    "        print(\"feature1-B is working.\")\n",
    "    def feature4(self):\n",
    "        print(\"feature4 is working.\")\n",
    "class C(A,B): # child class\n",
    "    def __init__(self):\n",
    "        super().__init__()  # A class constructor print because of MRO --->left to ryt order\n",
    "        print(\"C class Constructor\")\n",
    "    def feature5(self):\n",
    "        print(\"feature5 is working.\")\n",
    "    def feature6(self):\n",
    "        print(\"feature6 is working.\")\n",
    "    def feet(self):\n",
    "        super().feature2()\n",
    "c = C()\n",
    "c.feature1()\n",
    "c.feet()"
   ]
  },
  {
   "cell_type": "code",
   "execution_count": 26,
   "id": "6e27916a",
   "metadata": {},
   "outputs": [
    {
     "name": "stdout",
     "output_type": "stream",
     "text": [
      "compiling\n",
      "running\n",
      "spell check\n"
     ]
    }
   ],
   "source": [
    "# DUCK TYPING\n",
    "class Pycharm:\n",
    "    \n",
    "    def execute(self):\n",
    "        print(\"compiling\")\n",
    "        print(\"running\")\n",
    "\n",
    "class Myeditor:\n",
    "    \n",
    "    def execute(self):\n",
    "        print(\"compiling\")\n",
    "        print(\"running\")\n",
    "        print(\"spell check\")\n",
    "\n",
    "class Laptop:\n",
    "    \n",
    "    def code(self, ide):\n",
    "        ide.execute()\n",
    "\n",
    "        \n",
    "ide = Pycharm()\n",
    "ide = Myeditor()\n",
    "lap1 = Laptop()\n",
    "lap1.code(ide)"
   ]
  },
  {
   "cell_type": "code",
   "execution_count": 29,
   "id": "07356dec",
   "metadata": {},
   "outputs": [
    {
     "name": "stdout",
     "output_type": "stream",
     "text": [
      "12\n"
     ]
    },
    {
     "data": {
      "text/plain": [
       "12"
      ]
     },
     "execution_count": 29,
     "metadata": {},
     "output_type": "execute_result"
    }
   ],
   "source": [
    "# OPERATORS\n",
    "x = 5\n",
    "y = 7\n",
    "print(x+y)\n",
    "int.__add__(x,y)\n",
    "# .__sub__(x,y)\n",
    "# .__mul__(x,y)"
   ]
  },
  {
   "cell_type": "code",
   "execution_count": 1,
   "id": "0f05090f",
   "metadata": {},
   "outputs": [
    {
     "name": "stdout",
     "output_type": "stream",
     "text": [
      "130\n"
     ]
    }
   ],
   "source": [
    "class Student:\n",
    "    \n",
    "    def __init__(self, m1, m2):\n",
    "        self.m1 = m1\n",
    "        self.m2 = m2\n",
    "        \n",
    "    def __add__(self, other):\n",
    "        m1 = self.m1 + other.m1\n",
    "        m2 = self.m2 + other.m2\n",
    "        s3 = Student(m1, m2)\n",
    "        return s3\n",
    "\n",
    "s1 = Student(54, 65)\n",
    "s2 = Student(76, 32)\n",
    "s3 = s1 + s2\n",
    "print(s3.m1)"
   ]
  },
  {
   "cell_type": "code",
   "execution_count": 9,
   "id": "ac6da078",
   "metadata": {},
   "outputs": [
    {
     "ename": "AttributeError",
     "evalue": "'Student' object has no attribute 'x'",
     "output_type": "error",
     "traceback": [
      "\u001b[1;31m---------------------------------------------------------------------------\u001b[0m",
      "\u001b[1;31mAttributeError\u001b[0m                            Traceback (most recent call last)",
      "\u001b[1;32m~\\AppData\\Local\\Temp\\ipykernel_28792\\1883719083.py\u001b[0m in \u001b[0;36m<module>\u001b[1;34m\u001b[0m\n\u001b[0;32m     25\u001b[0m \u001b[0mS2\u001b[0m \u001b[1;33m=\u001b[0m \u001b[0mAIDS\u001b[0m\u001b[1;33m(\u001b[0m\u001b[1;36m45\u001b[0m\u001b[1;33m,\u001b[0m\u001b[1;36m34\u001b[0m\u001b[1;33m)\u001b[0m\u001b[1;33m\u001b[0m\u001b[1;33m\u001b[0m\u001b[0m\n\u001b[0;32m     26\u001b[0m \u001b[1;33m\u001b[0m\u001b[0m\n\u001b[1;32m---> 27\u001b[1;33m \u001b[0ms3\u001b[0m \u001b[1;33m=\u001b[0m \u001b[0ms1\u001b[0m \u001b[1;33m+\u001b[0m \u001b[0ms2\u001b[0m\u001b[1;33m\u001b[0m\u001b[1;33m\u001b[0m\u001b[0m\n\u001b[0m\u001b[0;32m     28\u001b[0m \u001b[1;33m\u001b[0m\u001b[0m\n\u001b[0;32m     29\u001b[0m \u001b[1;31m# print(s3.x)\u001b[0m\u001b[1;33m\u001b[0m\u001b[1;33m\u001b[0m\u001b[0m\n",
      "\u001b[1;32m~\\AppData\\Local\\Temp\\ipykernel_28792\\1883719083.py\u001b[0m in \u001b[0;36m__add__\u001b[1;34m(self, other)\u001b[0m\n\u001b[0;32m      8\u001b[0m \u001b[1;33m\u001b[0m\u001b[0m\n\u001b[0;32m      9\u001b[0m     \u001b[1;32mdef\u001b[0m \u001b[0m__add__\u001b[0m\u001b[1;33m(\u001b[0m\u001b[0mself\u001b[0m\u001b[1;33m,\u001b[0m \u001b[0mother\u001b[0m\u001b[1;33m)\u001b[0m\u001b[1;33m:\u001b[0m\u001b[1;33m\u001b[0m\u001b[1;33m\u001b[0m\u001b[0m\n\u001b[1;32m---> 10\u001b[1;33m         \u001b[0mt1\u001b[0m \u001b[1;33m=\u001b[0m \u001b[0mself\u001b[0m\u001b[1;33m.\u001b[0m\u001b[0mx\u001b[0m \u001b[1;33m+\u001b[0m \u001b[0mother\u001b[0m\u001b[1;33m.\u001b[0m\u001b[0mx\u001b[0m\u001b[1;33m\u001b[0m\u001b[1;33m\u001b[0m\u001b[0m\n\u001b[0m\u001b[0;32m     11\u001b[0m         \u001b[0mt2\u001b[0m \u001b[1;33m=\u001b[0m \u001b[0mself\u001b[0m\u001b[1;33m.\u001b[0m\u001b[0my\u001b[0m \u001b[1;33m+\u001b[0m \u001b[0mother\u001b[0m\u001b[1;33m.\u001b[0m\u001b[0my\u001b[0m\u001b[1;33m\u001b[0m\u001b[1;33m\u001b[0m\u001b[0m\n\u001b[0;32m     12\u001b[0m \u001b[1;33m\u001b[0m\u001b[0m\n",
      "\u001b[1;31mAttributeError\u001b[0m: 'Student' object has no attribute 'x'"
     ]
    }
   ],
   "source": [
    "# operator overloading\n",
    "class AIDS:\n",
    "    \n",
    "    def __init__(self, x, y):\n",
    "        self.x = x\n",
    "        self.y = y\n",
    "        \n",
    "    \n",
    "    def __add__(self, other):\n",
    "        t1 = self.x + other.x\n",
    "        t2 = self.y + other.y\n",
    "        \n",
    "        total = AIDS(x,y)\n",
    "        return total\n",
    "    \n",
    "    def __gt__(obj1, obj2):\n",
    "        t1 = obj1.x + obj1.y\n",
    "        t2 = obj2.x + obj2.y\n",
    "        if t1 > t2 :\n",
    "            return True\n",
    "        else:\n",
    "            return False\n",
    "    \n",
    "s1 = AIDS(43,45)\n",
    "S2 = AIDS(45,34)\n",
    "\n",
    "s3 = s1 + s2  \n",
    "\n",
    "# print(s3.x)\n",
    "\n",
    "if s1 > s2:\n",
    "    print(\"s1 wins\")\n",
    "else:\n",
    "    print(\"s2 wins\")"
   ]
  },
  {
   "cell_type": "code",
   "execution_count": 10,
   "id": "79e756f4",
   "metadata": {},
   "outputs": [
    {
     "name": "stdout",
     "output_type": "stream",
     "text": [
      "5\n",
      "4\n",
      "3\n",
      "2\n",
      "First complex number is  5 + 3 i\n",
      "Second complex number is  5 + 3 i\n",
      "Addition:-  9 + 5 i\n",
      "Subtraction:-  1 + 1 i\n",
      "Product:-  14 + 22 i\n"
     ]
    }
   ],
   "source": [
    "# Question1:Print the sum, difference and product of two complex numbers by creating a class named 'Complex' with separate \n",
    "# methods for each operation whose real and imaginary parts are entered by the user.\n",
    "class Complex:\n",
    "    \n",
    "    def __init__(self, a, x, b, y):\n",
    "        self.num1 = a\n",
    "        self.img1 = b\n",
    "        self.num2 = x\n",
    "        self.img2 = y\n",
    "        \n",
    "    def addition(self):\n",
    "        add1 = self.num1 + self.num2\n",
    "        add2 = self.img1 +self.img2\n",
    "        print(\"Addition:- \", add1, \"+\", add2,\"i\" )\n",
    "        \n",
    "    def subtraction(self):\n",
    "        sub1 = self.num1 - self.num2\n",
    "        sub2 = self.img1 - self.img2\n",
    "        print(\"Subtraction:- \", sub1, \"+\", sub2,\"i\" )\n",
    "    \n",
    "    def product(self):\n",
    "        I = self.num1*self.num2 - self.img1*self.img2\n",
    "        II = self.num1*self.img2 + self.img1* self.num2\n",
    "        print(\"Product:- \", I, \"+\", II,\"i\")\n",
    "        \n",
    "num1 = int(input())\n",
    "num2 = int(input())\n",
    "img1 = int(input())\n",
    "img2 = int(input())\n",
    "print(\"First complex number is \", num1, \"+\", img1,\"i\")\n",
    "print(\"Second complex number is \", num1, \"+\", img1,\"i\")\n",
    "\n",
    "op = Complex(num1,num2, img1,img2)\n",
    "op.addition()\n",
    "op.subtraction()\n",
    "op.product()"
   ]
  },
  {
   "cell_type": "code",
   "execution_count": 16,
   "id": "5621fadf",
   "metadata": {},
   "outputs": [
    {
     "name": "stdout",
     "output_type": "stream",
     "text": [
      "5+3j\n",
      "4+2j\n",
      "(9+5j)\n"
     ]
    }
   ],
   "source": [
    "I = complex(input())\n",
    "II = complex(input())\n",
    "print(I + II)"
   ]
  },
  {
   "cell_type": "code",
   "execution_count": 19,
   "id": "8ec79348",
   "metadata": {},
   "outputs": [
    {
     "name": "stdout",
     "output_type": "stream",
     "text": [
      "5+3j\n",
      "4+2j\n",
      "(9+5j)\n",
      "(1+1j)\n",
      "(14+22j)\n"
     ]
    }
   ],
   "source": [
    "class Complex:\n",
    "    def __init__(self, c1, c2):\n",
    "        self.c1 = c1\n",
    "        self.c2 = c2\n",
    "        \n",
    "    def add(self):\n",
    "        return complex.__add__(self.c1,self.c2)\n",
    "    def sub(self):\n",
    "        return complex.__sub__(self.c1,self.c2)\n",
    "    def pro(self):\n",
    "        return complex.__mul__(self.c1 , self.c2)\n",
    "\n",
    "I = complex(input())\n",
    "II = complex(input())\n",
    "C = Complex(I, II)\n",
    "print(C.add())\n",
    "print(C.sub())\n",
    "print(C.pro())"
   ]
  },
  {
   "cell_type": "code",
   "execution_count": null,
   "id": "a80a35a1",
   "metadata": {},
   "outputs": [],
   "source": [
    "class automobiles:\n",
    "    def __drive():\n",
    "        return \"driving vehicle\"\n",
    "\n",
    "class cars(automobiles):\n",
    "    def _drive():\n",
    "        return \"driving car\"\n",
    "\n",
    "class electricCar(cars):\n",
    "    \n"
   ]
  }
 ],
 "metadata": {
  "kernelspec": {
   "display_name": "Python 3 (ipykernel)",
   "language": "python",
   "name": "python3"
  },
  "language_info": {
   "codemirror_mode": {
    "name": "ipython",
    "version": 3
   },
   "file_extension": ".py",
   "mimetype": "text/x-python",
   "name": "python",
   "nbconvert_exporter": "python",
   "pygments_lexer": "ipython3",
   "version": "3.9.13"
  }
 },
 "nbformat": 4,
 "nbformat_minor": 5
}
